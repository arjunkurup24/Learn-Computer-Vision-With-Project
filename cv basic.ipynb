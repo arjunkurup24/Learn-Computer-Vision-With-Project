{
 "cells": [
  {
   "cell_type": "code",
   "execution_count": 1,
   "id": "e80b62d2",
   "metadata": {},
   "outputs": [
    {
     "name": "stdout",
     "output_type": "stream",
     "text": [
      "Requirement already satisfied: opencv-python in c:\\users\\arjunkurup\\anaconda3\\lib\\site-packages (4.6.0.66)\n",
      "Requirement already satisfied: numpy>=1.19.3 in c:\\users\\arjunkurup\\anaconda3\\lib\\site-packages (from opencv-python) (1.20.3)\n",
      "Note: you may need to restart the kernel to use updated packages.\n"
     ]
    }
   ],
   "source": [
    "pip install opencv-python\n"
   ]
  },
  {
   "cell_type": "code",
   "execution_count": 2,
   "id": "72dc476b",
   "metadata": {},
   "outputs": [],
   "source": [
    "import numpy as np"
   ]
  },
  {
   "cell_type": "code",
   "execution_count": 3,
   "id": "9c5715f2",
   "metadata": {},
   "outputs": [],
   "source": [
    "import cv2 as cv"
   ]
  },
  {
   "cell_type": "code",
   "execution_count": 4,
   "id": "5cf7fc39",
   "metadata": {},
   "outputs": [],
   "source": [
    "\n",
    "img= cv.imread(r\"C:\\Users\\arjunkurup\\OneDrive\\Pictures/cvpic.png\")\n"
   ]
  },
  {
   "cell_type": "code",
   "execution_count": 5,
   "id": "0c15bde0",
   "metadata": {},
   "outputs": [
    {
     "data": {
      "text/plain": [
       "array([[[ 45,  45,  45],\n",
       "        [ 45,  45,  45],\n",
       "        [ 45,  45,  45],\n",
       "        ...,\n",
       "        [ 32,  32,  32],\n",
       "        [ 32,  32,  32],\n",
       "        [ 32,  32,  32]],\n",
       "\n",
       "       [[ 45,  45,  45],\n",
       "        [ 45,  45,  45],\n",
       "        [ 45,  45,  45],\n",
       "        ...,\n",
       "        [ 32,  32,  32],\n",
       "        [ 32,  32,  32],\n",
       "        [ 32,  32,  32]],\n",
       "\n",
       "       [[ 45,  45,  45],\n",
       "        [ 45,  45,  45],\n",
       "        [ 45,  45,  45],\n",
       "        ...,\n",
       "        [ 32,  32,  32],\n",
       "        [ 32,  32,  32],\n",
       "        [ 32,  32,  32]],\n",
       "\n",
       "       ...,\n",
       "\n",
       "       [[ 32,  32,  32],\n",
       "        [170, 156, 142],\n",
       "        [183, 167, 155],\n",
       "        ...,\n",
       "        [ 89, 103, 106],\n",
       "        [ 32,  32,  32],\n",
       "        [ 32,  32,  32]],\n",
       "\n",
       "       [[ 32,  32,  32],\n",
       "        [171, 157, 143],\n",
       "        [184, 167, 155],\n",
       "        ...,\n",
       "        [ 93, 107, 110],\n",
       "        [ 32,  32,  32],\n",
       "        [ 32,  32,  32]],\n",
       "\n",
       "       [[ 32,  32,  32],\n",
       "        [170, 156, 142],\n",
       "        [184, 168, 155],\n",
       "        ...,\n",
       "        [ 90, 103, 106],\n",
       "        [ 32,  32,  32],\n",
       "        [ 32,  32,  32]]], dtype=uint8)"
      ]
     },
     "execution_count": 5,
     "metadata": {},
     "output_type": "execute_result"
    }
   ],
   "source": [
    "img"
   ]
  },
  {
   "cell_type": "code",
   "execution_count": 6,
   "id": "385685ea",
   "metadata": {},
   "outputs": [
    {
     "data": {
      "text/plain": [
       "numpy.ndarray"
      ]
     },
     "execution_count": 6,
     "metadata": {},
     "output_type": "execute_result"
    }
   ],
   "source": [
    "type(img)"
   ]
  },
  {
   "cell_type": "code",
   "execution_count": 7,
   "id": "90492a72",
   "metadata": {},
   "outputs": [
    {
     "data": {
      "text/plain": [
       "(942, 1242, 3)"
      ]
     },
     "execution_count": 7,
     "metadata": {},
     "output_type": "execute_result"
    }
   ],
   "source": [
    "img.shape"
   ]
  },
  {
   "cell_type": "code",
   "execution_count": 34,
   "id": "e1d18485",
   "metadata": {},
   "outputs": [],
   "source": [
    "cv.imshow(\"image\",img)\n",
    "cv.waitKey(2400)\n",
    "cv.destroyAllWindows()\n"
   ]
  },
  {
   "cell_type": "markdown",
   "id": "fa579f4e",
   "metadata": {},
   "source": [
    "#### converting it into grey scale image"
   ]
  },
  {
   "cell_type": "code",
   "execution_count": 18,
   "id": "f55d2751",
   "metadata": {},
   "outputs": [],
   "source": [
    "\n",
    "grey=cv.imread(r\"C:\\Users\\arjunkurup\\OneDrive\\Pictures/cvpic.png\",cv.IMREAD_GRAYSCALE)\n",
    "cv.imshow(\"grey\",grey)\n",
    "cv.waitKey(2400)\n",
    "cv.destroyAllWindows()"
   ]
  },
  {
   "cell_type": "markdown",
   "id": "94a1f392",
   "metadata": {},
   "source": [
    "#### converting it into black and white\n"
   ]
  },
  {
   "cell_type": "code",
   "execution_count": 31,
   "id": "001a1aff",
   "metadata": {},
   "outputs": [],
   "source": [
    "#for that first we want to adjust the thersold value\n",
    "\n",
    "(thresh,bw)=cv.threshold(grey,125,125,cv.THRESH_BINARY | cv.THRESH_OTSU)\n",
    "cv.imshow('black and white',bw)\n",
    "cv.waitKey(2400)\n",
    "cv.destroyAllWindows()"
   ]
  },
  {
   "cell_type": "markdown",
   "id": "c0f2ce81",
   "metadata": {},
   "source": [
    "#### EDGE DETCTION"
   ]
  },
  {
   "cell_type": "code",
   "execution_count": 27,
   "id": "7e59edc6",
   "metadata": {},
   "outputs": [],
   "source": [
    "edge=cv.Canny(img,150,150)\n",
    "cv.imshow('edge detction',edge)\n",
    "cv.waitKey()\n",
    "cv.destroyAllWindows()\n"
   ]
  },
  {
   "cell_type": "code",
   "execution_count": 36,
   "id": "7bd85af7",
   "metadata": {},
   "outputs": [],
   "source": [
    "cv.imshow('image',img)\n",
    "cv.waitKey(2400)\n",
    "cv.destroyAllWindows()"
   ]
  }
 ],
 "metadata": {
  "kernelspec": {
   "display_name": "Python 3.9.7 ('base')",
   "language": "python",
   "name": "python3"
  },
  "language_info": {
   "codemirror_mode": {
    "name": "ipython",
    "version": 3
   },
   "file_extension": ".py",
   "mimetype": "text/x-python",
   "name": "python",
   "nbconvert_exporter": "python",
   "pygments_lexer": "ipython3",
   "version": "3.9.7"
  },
  "vscode": {
   "interpreter": {
    "hash": "d82873f2f003e7d35fd122e156e0616b4401ffe089bdc28e24480c014c3face9"
   }
  }
 },
 "nbformat": 4,
 "nbformat_minor": 5
}
