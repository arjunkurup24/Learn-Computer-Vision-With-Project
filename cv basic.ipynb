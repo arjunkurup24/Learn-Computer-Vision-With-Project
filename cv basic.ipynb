{
 "cells": [
  {
   "cell_type": "markdown",
   "id": "6c2e0674",
   "metadata": {},
   "source": []
  },
  {
   "cell_type": "markdown",
   "id": "4f66c64b",
   "metadata": {},
   "source": [
    "#### COMPUTER VISION"
   ]
  },
  {
   "cell_type": "code",
   "execution_count": 13,
   "id": "307063dd",
   "metadata": {},
   "outputs": [],
   "source": [
    "# WHAT IS COMPUTER VISION ?\n",
    "# *  Computer Vision is a tool which Enable AI  to allow computer to obtain meaningfull data from\n",
    "#     visual input such as images and video \n",
    "# * AI enable computer to think Computer Vision Enable to See and observe"
   ]
  },
  {
   "cell_type": "code",
   "execution_count": 14,
   "id": "99bf13d4",
   "metadata": {},
   "outputs": [],
   "source": [
    "# Neural Network is a key elemnt in the backend which allow comuter vision to observe and recognise an image\n",
    "\n",
    "# What is Neural Network?\n",
    "#  * Neural networks reflect the behavior of the human brain, allowing computer programs to recognize patterns \n",
    "#    and solve common problems in the fields of AI, machine learning, and deep learning.\n",
    "#  * Neural networks consist of Input Layer , Hideen layer, and Output Layer\n",
    "#  * Eacher layer of neural networks consist of number of nodes(neuron)and each node carry a value\n",
    "#  * Number of pixel in image(height * width) = number of i/p nodes(neuron)in Neural Network\n",
    "#  * Hidden layer of neural networks is part were recognization take place\n",
    "#   * Each neuron in Neural Network consit of values \n",
    "#   IF nueron in neural network color is white it carry value =1\n",
    "#   IF nueron in neural network color is black it carry value = 0\n",
    "#   IF nueron in neural network color is Grey it carry value between 0 and 1\n",
    "#   Activated nueroun ie the neuron wuth value greater than 0.5 only pass from one hidden layer to other\n",
    "#    Less than 0.5 are block to pass to next layer\n"
   ]
  },
  {
   "cell_type": "code",
   "execution_count": 15,
   "id": "558c123d",
   "metadata": {},
   "outputs": [],
   "source": [
    "# please  Refer more note in google . \n",
    "\n",
    "# NOW LETS START CODING "
   ]
  },
  {
   "cell_type": "code",
   "execution_count": 16,
   "id": "aaf88f58",
   "metadata": {},
   "outputs": [],
   "source": [
    "# FIRST OF WE NEED TO INSTALL OPENCV IN YOUR IDE FOLOW THE PIP  CODE BELOW "
   ]
  },
  {
   "cell_type": "code",
   "execution_count": 17,
   "id": "e80b62d2",
   "metadata": {},
   "outputs": [
    {
     "name": "stdout",
     "output_type": "stream",
     "text": [
      "Requirement already satisfied: opencv-python in c:\\users\\arjunkurup\\anaconda3\\lib\\site-packages (4.6.0.66)\n",
      "Requirement already satisfied: numpy>=1.19.3 in c:\\users\\arjunkurup\\anaconda3\\lib\\site-packages (from opencv-python) (1.20.3)\n",
      "Note: you may need to restart the kernel to use updated packages.\n"
     ]
    }
   ],
   "source": [
    "pip install opencv-python\n"
   ]
  },
  {
   "cell_type": "code",
   "execution_count": 18,
   "id": "386205d5",
   "metadata": {},
   "outputs": [],
   "source": [
    "# Next I importing Computer Vision And NUMPy libraries in ide"
   ]
  },
  {
   "cell_type": "code",
   "execution_count": 19,
   "id": "72dc476b",
   "metadata": {},
   "outputs": [],
   "source": [
    "import numpy as np"
   ]
  },
  {
   "cell_type": "code",
   "execution_count": 20,
   "id": "9c5715f2",
   "metadata": {},
   "outputs": [],
   "source": [
    "import cv2 as cv"
   ]
  },
  {
   "cell_type": "code",
   "execution_count": 21,
   "id": "e8a4bf9b",
   "metadata": {},
   "outputs": [],
   "source": [
    "# Next I am loading the image  from my folder for load image use imread command from cv library"
   ]
  },
  {
   "cell_type": "code",
   "execution_count": 22,
   "id": "5cf7fc39",
   "metadata": {},
   "outputs": [],
   "source": [
    "\n",
    "img= cv.imread(r\"C:\\Users\\arjunkurup\\OneDrive\\Pictures/cvpic.png\")\n"
   ]
  },
  {
   "cell_type": "code",
   "execution_count": 23,
   "id": "0c15bde0",
   "metadata": {},
   "outputs": [
    {
     "data": {
      "text/plain": [
       "array([[[ 45,  45,  45],\n",
       "        [ 45,  45,  45],\n",
       "        [ 45,  45,  45],\n",
       "        ...,\n",
       "        [ 32,  32,  32],\n",
       "        [ 32,  32,  32],\n",
       "        [ 32,  32,  32]],\n",
       "\n",
       "       [[ 45,  45,  45],\n",
       "        [ 45,  45,  45],\n",
       "        [ 45,  45,  45],\n",
       "        ...,\n",
       "        [ 32,  32,  32],\n",
       "        [ 32,  32,  32],\n",
       "        [ 32,  32,  32]],\n",
       "\n",
       "       [[ 45,  45,  45],\n",
       "        [ 45,  45,  45],\n",
       "        [ 45,  45,  45],\n",
       "        ...,\n",
       "        [ 32,  32,  32],\n",
       "        [ 32,  32,  32],\n",
       "        [ 32,  32,  32]],\n",
       "\n",
       "       ...,\n",
       "\n",
       "       [[ 32,  32,  32],\n",
       "        [170, 156, 142],\n",
       "        [183, 167, 155],\n",
       "        ...,\n",
       "        [ 89, 103, 106],\n",
       "        [ 32,  32,  32],\n",
       "        [ 32,  32,  32]],\n",
       "\n",
       "       [[ 32,  32,  32],\n",
       "        [171, 157, 143],\n",
       "        [184, 167, 155],\n",
       "        ...,\n",
       "        [ 93, 107, 110],\n",
       "        [ 32,  32,  32],\n",
       "        [ 32,  32,  32]],\n",
       "\n",
       "       [[ 32,  32,  32],\n",
       "        [170, 156, 142],\n",
       "        [184, 168, 155],\n",
       "        ...,\n",
       "        [ 90, 103, 106],\n",
       "        [ 32,  32,  32],\n",
       "        [ 32,  32,  32]]], dtype=uint8)"
      ]
     },
     "execution_count": 23,
     "metadata": {},
     "output_type": "execute_result"
    }
   ],
   "source": [
    "img\n",
    "\n",
    "# in here image are stored in the form of array "
   ]
  },
  {
   "cell_type": "code",
   "execution_count": 24,
   "id": "385685ea",
   "metadata": {},
   "outputs": [
    {
     "data": {
      "text/plain": [
       "numpy.ndarray"
      ]
     },
     "execution_count": 24,
     "metadata": {},
     "output_type": "execute_result"
    }
   ],
   "source": [
    "type(img)"
   ]
  },
  {
   "cell_type": "code",
   "execution_count": 25,
   "id": "ccb09edd",
   "metadata": {},
   "outputs": [],
   "source": [
    "# Next i looking the shape of the image \n",
    "# From shape i get the height, width and layer count\n",
    "# Height * width = number of i/p in nueral network\n",
    "# since it is a color image it has 3 layer -- red, green and blue\n",
    "# Each layer has 0 t0 255 sub layer , ie for eg if red has 0 t0 255 layer in that it value in 125 then red look like brown this way actualy colour image is frorming based on varying in layer value\n",
    "\n",
    "# Black and White image has  2 layer Black and white \n"
   ]
  },
  {
   "cell_type": "code",
   "execution_count": 26,
   "id": "90492a72",
   "metadata": {},
   "outputs": [
    {
     "data": {
      "text/plain": [
       "(942, 1242, 3)"
      ]
     },
     "execution_count": 26,
     "metadata": {},
     "output_type": "execute_result"
    }
   ],
   "source": [
    "img.shape"
   ]
  },
  {
   "cell_type": "code",
   "execution_count": 27,
   "id": "8e02081a",
   "metadata": {},
   "outputs": [],
   "source": [
    "# Next i just display my image in screen rather than matrix to see your image use imshow fuction from cv library\n",
    "# Waitkey act like a screen time it display ur screen based on time u give it\n",
    "# ie here i give 2400 it means 2.4 secnd\n",
    "# destroy all windows used to detsroy the image after wait time end \n"
   ]
  },
  {
   "cell_type": "code",
   "execution_count": 28,
   "id": "e1d18485",
   "metadata": {},
   "outputs": [],
   "source": [
    "cv.imshow(\"image\",img)\n",
    "cv.waitKey(2400)\n",
    "cv.destroyAllWindows()\n"
   ]
  },
  {
   "cell_type": "code",
   "execution_count": null,
   "id": "fa579f4e",
   "metadata": {},
   "outputs": [],
   "source": [
    "#### converting it into grey scale image"
   ]
  },
  {
   "cell_type": "code",
   "execution_count": null,
   "id": "7af000df",
   "metadata": {},
   "outputs": [],
   "source": [
    "# In here i converting color image to gray scale image\n",
    "# Grayscaling is the process of converting an image from other color spaces e.g. RGB, CMYK, HSV, etc. to shades of gray"
   ]
  },
  {
   "cell_type": "code",
   "execution_count": null,
   "id": "3b3910a3",
   "metadata": {},
   "outputs": [],
   "source": [
    "# IMPORTANCE OF GRAY SCALING\n",
    "# -->Dimension reduction: \n",
    "#    For example, In RGB images there are three color channels and has three dimensions while grayscale images are single-dimensional.\n",
    "\n",
    "# ---> Reduces model complexity: \n",
    "#   Consider training neural article on RGB images of 10x10x3 pixel. \n",
    "#   The input layer will have 300 input nodes. On the other hand, the same neural network will need only 100 input nodes for grayscale images.\n",
    "\n",
    "# --> For other algorithms to work: \n",
    "# Many algorithms are customized to work only on grayscale images e.g. \n",
    "# Canny edge detection function pre-implemented in OpenCV library works on Grayscale images only.\n",
    "\n",
    "\n",
    "# IMREAD_GRAYSCALE function is used for converting image to grey"
   ]
  },
  {
   "cell_type": "code",
   "execution_count": null,
   "id": "f55d2751",
   "metadata": {},
   "outputs": [],
   "source": [
    "\n",
    "grey=cv.imread(r\"C:\\Users\\arjunkurup\\OneDrive\\Pictures/cvpic.png\",cv.IMREAD_GRAYSCALE)\n",
    "cv.imshow(\"grey\",grey)\n",
    "cv.waitKey(2400)\n",
    "cv.destroyAllWindows()"
   ]
  },
  {
   "cell_type": "markdown",
   "id": "94a1f392",
   "metadata": {},
   "source": [
    "#### converting it into black and white\n"
   ]
  },
  {
   "cell_type": "code",
   "execution_count": null,
   "id": "001a1aff",
   "metadata": {},
   "outputs": [],
   "source": [
    "# In here i converting gray image to black and white\n",
    "#for that first we want to adjust the thersold  value of image\n",
    "# ie here i givimg thersold value of  black and white \n",
    "\n",
    "(thresh,bw)=cv.threshold(grey,125,125,cv.THRESH_BINARY | cv.THRESH_OTSU)\n",
    "cv.imshow('black and white',bw)\n",
    "cv.waitKey(2400)\n",
    "cv.destroyAllWindows()"
   ]
  },
  {
   "cell_type": "markdown",
   "id": "c0f2ce81",
   "metadata": {},
   "source": [
    "#### EDGE DETCTION"
   ]
  },
  {
   "cell_type": "code",
   "execution_count": null,
   "id": "3f275362",
   "metadata": {},
   "outputs": [],
   "source": [
    "# Edge Detction enable us to highlight the featuresin image in black background\n",
    "\n",
    "# canny function used to get it "
   ]
  },
  {
   "cell_type": "code",
   "execution_count": null,
   "id": "7e59edc6",
   "metadata": {},
   "outputs": [],
   "source": [
    "edge=cv.Canny(img,150,150)\n",
    "cv.imshow('edge detction',edge)\n",
    "cv.waitKey(2400)\n",
    "cv.destroyAllWindows()\n"
   ]
  }
 ],
 "metadata": {
  "kernelspec": {
   "display_name": "Python 3.9.7 ('base')",
   "language": "python",
   "name": "python3"
  },
  "language_info": {
   "codemirror_mode": {
    "name": "ipython",
    "version": 3
   },
   "file_extension": ".py",
   "mimetype": "text/x-python",
   "name": "python",
   "nbconvert_exporter": "python",
   "pygments_lexer": "ipython3",
   "version": "3.9.7"
  },
  "vscode": {
   "interpreter": {
    "hash": "d82873f2f003e7d35fd122e156e0616b4401ffe089bdc28e24480c014c3face9"
   }
  }
 },
 "nbformat": 4,
 "nbformat_minor": 5
}
